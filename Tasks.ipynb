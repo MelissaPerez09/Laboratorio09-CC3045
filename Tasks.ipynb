{
 "cells": [
  {
   "cell_type": "markdown",
   "metadata": {},
   "source": [
    "# Laboratorio 09\n",
    "\n",
    "Integrantes:\n",
    "- Ricardo Méndez 21289\n",
    "- Sara Echeverría 21371\n",
    "- Francisco Castillo 21562\n",
    "- Melissa Pérez 21385\n",
    "\n",
    "Repositorio: https://github.com/MelissaPerez09/Laboratorio09-CC3045"
   ]
  },
  {
   "cell_type": "markdown",
   "metadata": {},
   "source": [
    "## Task 01 - Teoría"
   ]
  },
  {
   "cell_type": "markdown",
   "metadata": {},
   "source": [
    "### 1. Diga cual es la diferencia entre Modelos de Markov y Hidden Markov Models"
   ]
  },
  {
   "cell_type": "markdown",
   "metadata": {},
   "source": []
  },
  {
   "cell_type": "markdown",
   "metadata": {},
   "source": [
    "### 2. Investigue qué son los factorial HMM (Hidden Markov Models)"
   ]
  },
  {
   "cell_type": "markdown",
   "metadata": {},
   "source": []
  },
  {
   "cell_type": "markdown",
   "metadata": {},
   "source": [
    "### 3. Especifique en sus propias palabras el algoritmo Forward Backward para HMM"
   ]
  },
  {
   "cell_type": "markdown",
   "metadata": {},
   "source": []
  },
  {
   "cell_type": "markdown",
   "metadata": {},
   "source": [
    "### 4. En el algoritmo de Forward Backward, por qué es necesario el paso de Backward (puede escribir ejemplos o casos para responder esta pregunta)"
   ]
  },
  {
   "cell_type": "markdown",
   "metadata": {},
   "source": []
  },
  {
   "cell_type": "markdown",
   "metadata": {},
   "source": [
    "## Task 02 - Algoritmo Forward Backward en HMM\n",
    "\n",
    "En este ejercicio estamos ante un modelo meteorológico representado por un Modelo Oculto de Markov (HMM) con dos estados: \"Soleado\" y \"Lluvioso\". Queremos predecir el tiempo en un día determinado basándonos en las observaciones de si el día anterior estuvo soleado o lluvioso."
   ]
  },
  {
   "cell_type": "code",
   "execution_count": null,
   "metadata": {},
   "outputs": [],
   "source": [
    "class HMM:\n",
    "    def __init__(self, states, observations, initial_prob, transition_prob, emission_prob):\n",
    "        # Inicializar parámetros del HMM\n",
    "\n",
    "    def generate_sequence(self, length):\n",
    "        # Generar una secuencia de observaciones basada en el HMM.\n",
    "\n",
    "    def forward(self, observations):\n",
    "        # Implementar el paso adelante del algoritmo hacia atrás-adelante\n",
    "\n",
    "    def backward(self, observations):\n",
    "        # Implementar el paso hacia atrás del algoritmo hacia atrás-adelante\n",
    "\n",
    "    def compute_state_probabilities(self, observations):\n",
    "        # Combine probabilidades hacia adelante y hacia atrás para calcular probabilidades de estado\n",
    "\n",
    "# Uso y datos\n",
    "states = ['Sunny', 'Rainy']\n",
    "observations = ['Sunny', 'Sunny', 'Rainy']\n",
    "initial_prob = {'Sunny': 0.5, 'Rainy': 0.5}\n",
    "transition_prob = {'Sunny': {'Sunny': 0.8, 'Rainy': 0.2}, 'Rainy': {'Sunny': 0.4, 'Rainy': 0.6}}\n",
    "emission_prob = {'Sunny': {'Sunny': 0.8, 'Rainy': 0.2}, 'Rainy': {'Sunny': 0.3, 'Rainy': 0.7}}\n",
    "\n",
    "hmm = HMM(states, observations, initial_prob, transition_prob, emission_prob)\n",
    "\n",
    "# Generar una secuencia de observaciones.\n",
    "obs_sequence = hmm.generate_sequence(5)\n",
    "print(\"Secuencia Generada:\", obs_sequence)\n",
    "\n",
    "# Cálculo de probabilidades forward\n",
    "forward_probs = hmm.forward(observations)\n",
    "print(\"\\nProbabilidades Forward:\")\n",
    "print(forward_probs)\n",
    "\n",
    "# Cálculo de probabilidades backward\n",
    "backward_probs = hmm.backward(observations)\n",
    "print(\"\\nProbabilidades Backward:\")\n",
    "print(backward_probs)\n",
    "\n",
    "# Calcular probabilidades de estado\n",
    "state_probs = hmm.compute_state_probabilities(observations)\n",
    "print(\"\\nProbabilidades de Estados:\")\n",
    "print(state_probs)"
   ]
  }
 ],
 "metadata": {
  "kernelspec": {
   "display_name": "Python 3",
   "language": "python",
   "name": "python3"
  },
  "language_info": {
   "name": "python",
   "version": "3.11.8"
  }
 },
 "nbformat": 4,
 "nbformat_minor": 2
}
